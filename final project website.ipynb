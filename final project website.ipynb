{
 "cells": [
  {
   "cell_type": "markdown",
   "id": "4a42f71e",
   "metadata": {},
   "source": [
    "# An Analysis of COVID-19 in Djibouti "
   ]
  },
  {
   "cell_type": "markdown",
   "id": "e626cfa7",
   "metadata": {},
   "source": [
    "![djiboti flag](https://cdn.countryflags.com/thumbs/djibouti/flag-400.png)"
   ]
  },
  {
   "cell_type": "markdown",
   "id": "be051840",
   "metadata": {},
   "source": [
    "## Background of COVID-19"
   ]
  },
  {
   "cell_type": "markdown",
   "id": "98c41c51",
   "metadata": {},
   "source": [
    "COVID-19 is a virus thats origins are highly debated. It ravaged throughout the world, leaving no country unscathed. Symptoms include mild/moderate respiratory difficulty, fatigue, aches, and possible death. The world has been combatting the virus for three years now, and millions globally have died. It is one of the worst events that this generation will ever see. "
   ]
  },
  {
   "cell_type": "markdown",
   "id": "b2f77e98",
   "metadata": {},
   "source": [
    "## Data Source"
   ]
  },
  {
   "cell_type": "markdown",
   "id": "827700a9",
   "metadata": {},
   "source": [
    "The data is downloaded from [European Centre for Disease Prevenstion and Control](https://jmu.webex.com/jmu-en/url.php?frompanel=false&gourl=https%3A%2F%2Fwww.ecdc.europa.eu%2Fen%2Fpublications-data%2Fdownload-todays-data-geographic-distribution-covid-19-cases-worldwidel)"
   ]
  },
  {
   "cell_type": "markdown",
   "id": "e3159e7b",
   "metadata": {},
   "source": [
    "## Data in Djibouti"
   ]
  },
  {
   "cell_type": "code",
   "execution_count": 9,
   "id": "42a70a58",
   "metadata": {},
   "outputs": [],
   "source": [
    "%matplotlib inline\n",
    "import pandas"
   ]
  },
  {
   "cell_type": "code",
   "execution_count": 10,
   "id": "40eec01a",
   "metadata": {},
   "outputs": [
    {
     "data": {
      "text/html": [
       "<div>\n",
       "<style scoped>\n",
       "    .dataframe tbody tr th:only-of-type {\n",
       "        vertical-align: middle;\n",
       "    }\n",
       "\n",
       "    .dataframe tbody tr th {\n",
       "        vertical-align: top;\n",
       "    }\n",
       "\n",
       "    .dataframe thead th {\n",
       "        text-align: right;\n",
       "    }\n",
       "</style>\n",
       "<table border=\"1\" class=\"dataframe\">\n",
       "  <thead>\n",
       "    <tr style=\"text-align: right;\">\n",
       "      <th></th>\n",
       "      <th>dateRep</th>\n",
       "      <th>day</th>\n",
       "      <th>month</th>\n",
       "      <th>year</th>\n",
       "      <th>cases</th>\n",
       "      <th>deaths</th>\n",
       "      <th>countriesAndTerritories</th>\n",
       "      <th>geoId</th>\n",
       "      <th>countryterritoryCode</th>\n",
       "      <th>popData2019</th>\n",
       "      <th>continentExp</th>\n",
       "      <th>Cumulative_number_for_14_days_of_COVID-19_cases_per_100000</th>\n",
       "    </tr>\n",
       "  </thead>\n",
       "  <tbody>\n",
       "    <tr>\n",
       "      <th>51838</th>\n",
       "      <td>14/12/2020</td>\n",
       "      <td>14</td>\n",
       "      <td>12</td>\n",
       "      <td>2020</td>\n",
       "      <td>7999</td>\n",
       "      <td>170</td>\n",
       "      <td>South_Africa</td>\n",
       "      <td>ZA</td>\n",
       "      <td>ZAF</td>\n",
       "      <td>58558267.0</td>\n",
       "      <td>Africa</td>\n",
       "      <td>125.109577</td>\n",
       "    </tr>\n",
       "    <tr>\n",
       "      <th>51839</th>\n",
       "      <td>13/12/2020</td>\n",
       "      <td>13</td>\n",
       "      <td>12</td>\n",
       "      <td>2020</td>\n",
       "      <td>7882</td>\n",
       "      <td>154</td>\n",
       "      <td>South_Africa</td>\n",
       "      <td>ZA</td>\n",
       "      <td>ZAF</td>\n",
       "      <td>58558267.0</td>\n",
       "      <td>Africa</td>\n",
       "      <td>115.826515</td>\n",
       "    </tr>\n",
       "    <tr>\n",
       "      <th>51840</th>\n",
       "      <td>2020-12-12 00:00:00</td>\n",
       "      <td>12</td>\n",
       "      <td>12</td>\n",
       "      <td>2020</td>\n",
       "      <td>8319</td>\n",
       "      <td>205</td>\n",
       "      <td>South_Africa</td>\n",
       "      <td>ZA</td>\n",
       "      <td>ZAF</td>\n",
       "      <td>58558267.0</td>\n",
       "      <td>Africa</td>\n",
       "      <td>107.827645</td>\n",
       "    </tr>\n",
       "    <tr>\n",
       "      <th>51841</th>\n",
       "      <td>2020-11-12 00:00:00</td>\n",
       "      <td>11</td>\n",
       "      <td>12</td>\n",
       "      <td>2020</td>\n",
       "      <td>8166</td>\n",
       "      <td>173</td>\n",
       "      <td>South_Africa</td>\n",
       "      <td>ZA</td>\n",
       "      <td>ZAF</td>\n",
       "      <td>58558267.0</td>\n",
       "      <td>Africa</td>\n",
       "      <td>99.376233</td>\n",
       "    </tr>\n",
       "    <tr>\n",
       "      <th>51842</th>\n",
       "      <td>2020-10-12 00:00:00</td>\n",
       "      <td>10</td>\n",
       "      <td>12</td>\n",
       "      <td>2020</td>\n",
       "      <td>6709</td>\n",
       "      <td>142</td>\n",
       "      <td>South_Africa</td>\n",
       "      <td>ZA</td>\n",
       "      <td>ZAF</td>\n",
       "      <td>58558267.0</td>\n",
       "      <td>Africa</td>\n",
       "      <td>90.672082</td>\n",
       "    </tr>\n",
       "    <tr>\n",
       "      <th>51843</th>\n",
       "      <td>2020-09-12 00:00:00</td>\n",
       "      <td>9</td>\n",
       "      <td>12</td>\n",
       "      <td>2020</td>\n",
       "      <td>4011</td>\n",
       "      <td>183</td>\n",
       "      <td>South_Africa</td>\n",
       "      <td>ZA</td>\n",
       "      <td>ZAF</td>\n",
       "      <td>58558267.0</td>\n",
       "      <td>Africa</td>\n",
       "      <td>84.765145</td>\n",
       "    </tr>\n",
       "    <tr>\n",
       "      <th>51844</th>\n",
       "      <td>2020-08-12 00:00:00</td>\n",
       "      <td>8</td>\n",
       "      <td>12</td>\n",
       "      <td>2020</td>\n",
       "      <td>3313</td>\n",
       "      <td>43</td>\n",
       "      <td>South_Africa</td>\n",
       "      <td>ZA</td>\n",
       "      <td>ZAF</td>\n",
       "      <td>58558267.0</td>\n",
       "      <td>Africa</td>\n",
       "      <td>82.172855</td>\n",
       "    </tr>\n",
       "    <tr>\n",
       "      <th>51845</th>\n",
       "      <td>2020-07-12 00:00:00</td>\n",
       "      <td>7</td>\n",
       "      <td>12</td>\n",
       "      <td>2020</td>\n",
       "      <td>4116</td>\n",
       "      <td>139</td>\n",
       "      <td>South_Africa</td>\n",
       "      <td>ZA</td>\n",
       "      <td>ZAF</td>\n",
       "      <td>58558267.0</td>\n",
       "      <td>Africa</td>\n",
       "      <td>80.067260</td>\n",
       "    </tr>\n",
       "    <tr>\n",
       "      <th>51846</th>\n",
       "      <td>2020-06-12 00:00:00</td>\n",
       "      <td>6</td>\n",
       "      <td>12</td>\n",
       "      <td>2020</td>\n",
       "      <td>4645</td>\n",
       "      <td>104</td>\n",
       "      <td>South_Africa</td>\n",
       "      <td>ZA</td>\n",
       "      <td>ZAF</td>\n",
       "      <td>58558267.0</td>\n",
       "      <td>Africa</td>\n",
       "      <td>76.914844</td>\n",
       "    </tr>\n",
       "    <tr>\n",
       "      <th>51847</th>\n",
       "      <td>2020-05-12 00:00:00</td>\n",
       "      <td>5</td>\n",
       "      <td>12</td>\n",
       "      <td>2020</td>\n",
       "      <td>4932</td>\n",
       "      <td>160</td>\n",
       "      <td>South_Africa</td>\n",
       "      <td>ZA</td>\n",
       "      <td>ZAF</td>\n",
       "      <td>58558267.0</td>\n",
       "      <td>Africa</td>\n",
       "      <td>73.501151</td>\n",
       "    </tr>\n",
       "  </tbody>\n",
       "</table>\n",
       "</div>"
      ],
      "text/plain": [
       "                   dateRep  day  month  year  cases  deaths  \\\n",
       "51838           14/12/2020   14     12  2020   7999     170   \n",
       "51839           13/12/2020   13     12  2020   7882     154   \n",
       "51840  2020-12-12 00:00:00   12     12  2020   8319     205   \n",
       "51841  2020-11-12 00:00:00   11     12  2020   8166     173   \n",
       "51842  2020-10-12 00:00:00   10     12  2020   6709     142   \n",
       "51843  2020-09-12 00:00:00    9     12  2020   4011     183   \n",
       "51844  2020-08-12 00:00:00    8     12  2020   3313      43   \n",
       "51845  2020-07-12 00:00:00    7     12  2020   4116     139   \n",
       "51846  2020-06-12 00:00:00    6     12  2020   4645     104   \n",
       "51847  2020-05-12 00:00:00    5     12  2020   4932     160   \n",
       "\n",
       "      countriesAndTerritories geoId countryterritoryCode  popData2019  \\\n",
       "51838            South_Africa    ZA                  ZAF   58558267.0   \n",
       "51839            South_Africa    ZA                  ZAF   58558267.0   \n",
       "51840            South_Africa    ZA                  ZAF   58558267.0   \n",
       "51841            South_Africa    ZA                  ZAF   58558267.0   \n",
       "51842            South_Africa    ZA                  ZAF   58558267.0   \n",
       "51843            South_Africa    ZA                  ZAF   58558267.0   \n",
       "51844            South_Africa    ZA                  ZAF   58558267.0   \n",
       "51845            South_Africa    ZA                  ZAF   58558267.0   \n",
       "51846            South_Africa    ZA                  ZAF   58558267.0   \n",
       "51847            South_Africa    ZA                  ZAF   58558267.0   \n",
       "\n",
       "      continentExp  Cumulative_number_for_14_days_of_COVID-19_cases_per_100000  \n",
       "51838       Africa                                         125.109577           \n",
       "51839       Africa                                         115.826515           \n",
       "51840       Africa                                         107.827645           \n",
       "51841       Africa                                          99.376233           \n",
       "51842       Africa                                          90.672082           \n",
       "51843       Africa                                          84.765145           \n",
       "51844       Africa                                          82.172855           \n",
       "51845       Africa                                          80.067260           \n",
       "51846       Africa                                          76.914844           \n",
       "51847       Africa                                          73.501151           "
      ]
     },
     "execution_count": 10,
     "metadata": {},
     "output_type": "execute_result"
    }
   ],
   "source": [
    "df = pandas.read_excel('s3://guerke-ia241-bucket1/covid_data.xls')\n",
    "Djibouti_Data=df.loc[df['countriesAndTerritories']=='South_Africa']\n",
    "Djibouti_Data[:10]"
   ]
  },
  {
   "cell_type": "markdown",
   "id": "e10efe00",
   "metadata": {},
   "source": [
    "## What are the total amount of COVID-19 cases in Djibouti?"
   ]
  },
  {
   "cell_type": "code",
   "execution_count": 11,
   "id": "3d4cc03f",
   "metadata": {},
   "outputs": [
    {
     "name": "stdout",
     "output_type": "stream",
     "text": [
      "860964\n"
     ]
    }
   ],
   "source": [
    "sum_cases = Djibouti_Data.sum()['cases']\n",
    "print(sum_cases)"
   ]
  },
  {
   "cell_type": "markdown",
   "id": "96b68842",
   "metadata": {},
   "source": [
    "## What are the total amount of COVID-19 related deaths in Djibouti?"
   ]
  },
  {
   "cell_type": "code",
   "execution_count": 12,
   "id": "467603cf",
   "metadata": {},
   "outputs": [
    {
     "name": "stdout",
     "output_type": "stream",
     "text": [
      "23276\n"
     ]
    }
   ],
   "source": [
    "sum_deaths = Djibouti_Data.sum()['deaths']\n",
    "print(sum_deaths)"
   ]
  },
  {
   "cell_type": "markdown",
   "id": "929eb63b",
   "metadata": {},
   "source": [
    "## In what month did Djibouti experience a spike in COVID-19 cases?"
   ]
  },
  {
   "cell_type": "code",
   "execution_count": 13,
   "id": "930cdc83",
   "metadata": {},
   "outputs": [
    {
     "data": {
      "text/plain": [
       "month\n",
       "3        3\n",
       "4      100\n",
       "5      540\n",
       "6     1886\n",
       "7     5283\n",
       "8     6216\n",
       "9     2639\n",
       "10    2563\n",
       "11    2247\n",
       "12    1799\n",
       "Name: deaths, dtype: int64"
      ]
     },
     "execution_count": 13,
     "metadata": {},
     "output_type": "execute_result"
    }
   ],
   "source": [
    "month_deaths=Djibouti_Data.groupby('month').sum()['deaths']\n",
    "month_deaths[:]"
   ]
  },
  {
   "cell_type": "code",
   "execution_count": 14,
   "id": "17737ddb",
   "metadata": {},
   "outputs": [
    {
     "data": {
      "text/plain": [
       "<AxesSubplot:xlabel='month'>"
      ]
     },
     "execution_count": 14,
     "metadata": {},
     "output_type": "execute_result"
    },
    {
     "data": {
      "image/png": "[encoded data removed]",
      "text/plain": [
       "<Figure size 432x288 with 1 Axes>"
      ]
     },
     "metadata": {
      "needs_background": "light"
     },
     "output_type": "display_data"
    }
   ],
   "source": [
    "month_deaths.plot.line()"
   ]
  },
  {
   "cell_type": "markdown",
   "id": "2cdbd22f",
   "metadata": {},
   "source": [
    "## Explanation of Calculations"
   ]
  },
  {
   "cell_type": "markdown",
   "id": "7433da0a",
   "metadata": {},
   "source": [
    "The first thing I did was define the data provided by the European Centre for Disease Prevention and Control to show just Djibouti facts, for the sake of this product. To show total number of COVID-19 cases in the country, I used code to produce the number given the data table at the start of my product. To show the total number of COVID-19 related deaths in the country, I also used code to produce the number given the data table. Lastly, I used a line chart to depict the overall COVID-19 deaths in the year 2020 because I wanted to show what month of the year saw the most deaths in relation to the other months. The line graph was the most visually appealing way to illustrate the findings. "
   ]
  },
  {
   "cell_type": "markdown",
   "id": "0bfdcafc",
   "metadata": {},
   "source": [
    "## Interpretation of the Diagrams"
   ]
  },
  {
   "cell_type": "markdown",
   "id": "85475369",
   "metadata": {},
   "source": [
    "The only question that required a visualization was my third question: in what month did Djibouti experience a spike in COVID-19 cases? The line graph used for this question shows that Djibouti experienced a spike in COVID-19 deaths in the 8th month, which is August 2020. From the start of the year to April, there was a slight incline. From April to August the chart shows that there was a steep incline. Then, from the peak in August to September, there was a steep decline, but a pivot in September and a slight decline from September to December 2020. "
   ]
  },
  {
   "cell_type": "markdown",
   "id": "4411378a",
   "metadata": {},
   "source": [
    "## Conclusion"
   ]
  },
  {
   "cell_type": "markdown",
   "id": "18f17476",
   "metadata": {},
   "source": [
    "Overall, this product shows important data pertaining to Djibouti in the year 2020 with COVID-19. Some limitations include the data being capped at only reporting on the year 2020, when the pandemic has lasted much longer. In addition, my knowledge in Python was a limitation; however, I was knowledgeable on the country of Djibouti prior to this website."
   ]
  },
  {
   "cell_type": "markdown",
   "id": "1340fd89",
   "metadata": {},
   "source": [
    "## Author Information"
   ]
  },
  {
   "cell_type": "markdown",
   "id": "48a12627",
   "metadata": {},
   "source": [
    "By: Tyler Guerke"
   ]
  },
  {
   "cell_type": "markdown",
   "id": "7418fabf",
   "metadata": {},
   "source": [
    "Email: guerketj@dukes.jmu.edu"
   ]
  },
  {
   "cell_type": "code",
   "execution_count": null,
   "id": "1b0ebff7",
   "metadata": {},
   "outputs": [],
   "source": []
  }
 ],
 "metadata": {
  "kernelspec": {
   "display_name": "conda_python3",
   "language": "python",
   "name": "conda_python3"
  },
  "language_info": {
   "codemirror_mode": {
    "name": "ipython",
    "version": 3
   },
   "file_extension": ".py",
   "mimetype": "text/x-python",
   "name": "python",
   "nbconvert_exporter": "python",
   "pygments_lexer": "ipython3",
   "version": "3.6.13"
  }
 },
 "nbformat": 4,
 "nbformat_minor": 5
}
